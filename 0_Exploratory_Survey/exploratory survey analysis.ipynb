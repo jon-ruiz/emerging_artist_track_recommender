{
 "cells": [
  {
   "cell_type": "code",
   "execution_count": 1,
   "metadata": {},
   "outputs": [],
   "source": [
    "import pandas as pd\n",
    "import seaborn as sns\n",
    "import numpy as np\n",
    "import matplotlib.pyplot as plt"
   ]
  },
  {
   "cell_type": "code",
   "execution_count": 3,
   "metadata": {},
   "outputs": [],
   "source": [
    "df = pd.read_csv(\"../Datasets/Music_Streaming_Service_User_Survey.csv\")"
   ]
  },
  {
   "cell_type": "code",
   "execution_count": 33,
   "metadata": {},
   "outputs": [
    {
     "data": {
      "text/html": [
       "<div>\n",
       "<style scoped>\n",
       "    .dataframe tbody tr th:only-of-type {\n",
       "        vertical-align: middle;\n",
       "    }\n",
       "\n",
       "    .dataframe tbody tr th {\n",
       "        vertical-align: top;\n",
       "    }\n",
       "\n",
       "    .dataframe thead th {\n",
       "        text-align: right;\n",
       "    }\n",
       "</style>\n",
       "<table border=\"1\" class=\"dataframe\">\n",
       "  <thead>\n",
       "    <tr style=\"text-align: right;\">\n",
       "      <th></th>\n",
       "      <th>Timestamp</th>\n",
       "      <th>Which music streaming app do you use most often?</th>\n",
       "      <th>How often do you listen to music on any of these apps?</th>\n",
       "      <th>What is the main way you listen to music on these apps?</th>\n",
       "      <th>How often do you listen to personalized smart playlists (like Discover Weekly, Daily Mix, Stations, etc.)?</th>\n",
       "      <th>Does your music streaming app give you recommendations that fit your tastes?</th>\n",
       "      <th>Do you use more than one streaming service?</th>\n",
       "      <th>Which other music streaming app(s) do you use?</th>\n",
       "      <th>Why do you use more than one?</th>\n",
       "      <th>Does one of your streaming apps give better recommendations than the other? Which one?</th>\n",
       "      <th>What do you wish your streaming app(s) did better? What feature(s) would you add?</th>\n",
       "    </tr>\n",
       "  </thead>\n",
       "  <tbody>\n",
       "    <tr>\n",
       "      <th>0</th>\n",
       "      <td>2019/04/10 12:33:57 PM AST</td>\n",
       "      <td>Spotify</td>\n",
       "      <td>Sometimes (at least once a week)</td>\n",
       "      <td>I listen to personalized smart playlists (like...</td>\n",
       "      <td>Sometimes (at least once a week)</td>\n",
       "      <td>Sometimes</td>\n",
       "      <td>Yes</td>\n",
       "      <td>Pandora</td>\n",
       "      <td>I got used to using Pandora when I worked in a...</td>\n",
       "      <td>Pandora</td>\n",
       "      <td>I would like to have newer artists/song sugges...</td>\n",
       "    </tr>\n",
       "    <tr>\n",
       "      <th>1</th>\n",
       "      <td>2019/04/10 12:33:59 PM AST</td>\n",
       "      <td>Spotify</td>\n",
       "      <td>Sometimes (at least once a week)</td>\n",
       "      <td>I listen to personalized smart playlists (like...</td>\n",
       "      <td>Sometimes (at least once a week)</td>\n",
       "      <td>Often</td>\n",
       "      <td>No</td>\n",
       "      <td>NaN</td>\n",
       "      <td>NaN</td>\n",
       "      <td>NaN</td>\n",
       "      <td>Kind of miss the random-ness of Pandora. You c...</td>\n",
       "    </tr>\n",
       "    <tr>\n",
       "      <th>2</th>\n",
       "      <td>2019/04/10 12:35:55 PM AST</td>\n",
       "      <td>Spotify</td>\n",
       "      <td>Often (every day)</td>\n",
       "      <td>I listen to albums</td>\n",
       "      <td>Sometimes (at least once a week)</td>\n",
       "      <td>Sometimes</td>\n",
       "      <td>No</td>\n",
       "      <td>NaN</td>\n",
       "      <td>NaN</td>\n",
       "      <td>NaN</td>\n",
       "      <td>more foreign music</td>\n",
       "    </tr>\n",
       "    <tr>\n",
       "      <th>3</th>\n",
       "      <td>2019/04/10 12:37:48 PM AST</td>\n",
       "      <td>Pandora</td>\n",
       "      <td>Often (every day)</td>\n",
       "      <td>I listen to “radio” stations (based on artists...</td>\n",
       "      <td>Almost never</td>\n",
       "      <td>Occasionally</td>\n",
       "      <td>Yes</td>\n",
       "      <td>Spotify</td>\n",
       "      <td>Pandora is better for \"radio\" stations in disc...</td>\n",
       "      <td>Pandora</td>\n",
       "      <td>I wish it continuously added new songs to radi...</td>\n",
       "    </tr>\n",
       "    <tr>\n",
       "      <th>4</th>\n",
       "      <td>2019/04/10 12:38:26 PM AST</td>\n",
       "      <td>Apple Music</td>\n",
       "      <td>Often (every day)</td>\n",
       "      <td>I create my own playlists</td>\n",
       "      <td>Sometimes (at least once a week)</td>\n",
       "      <td>Sometimes</td>\n",
       "      <td>No</td>\n",
       "      <td>NaN</td>\n",
       "      <td>NaN</td>\n",
       "      <td>NaN</td>\n",
       "      <td>Better recommendations for music that I like. ...</td>\n",
       "    </tr>\n",
       "  </tbody>\n",
       "</table>\n",
       "</div>"
      ],
      "text/plain": [
       "                    Timestamp  \\\n",
       "0  2019/04/10 12:33:57 PM AST   \n",
       "1  2019/04/10 12:33:59 PM AST   \n",
       "2  2019/04/10 12:35:55 PM AST   \n",
       "3  2019/04/10 12:37:48 PM AST   \n",
       "4  2019/04/10 12:38:26 PM AST   \n",
       "\n",
       "  Which music streaming app do you use most often?  \\\n",
       "0                                          Spotify   \n",
       "1                                          Spotify   \n",
       "2                                          Spotify   \n",
       "3                                          Pandora   \n",
       "4                                      Apple Music   \n",
       "\n",
       "  How often do you listen to music on any of these apps?  \\\n",
       "0                   Sometimes (at least once a week)       \n",
       "1                   Sometimes (at least once a week)       \n",
       "2                                  Often (every day)       \n",
       "3                                  Often (every day)       \n",
       "4                                  Often (every day)       \n",
       "\n",
       "  What is the main way you listen to music on these apps?  \\\n",
       "0  I listen to personalized smart playlists (like...        \n",
       "1  I listen to personalized smart playlists (like...        \n",
       "2                                 I listen to albums        \n",
       "3  I listen to “radio” stations (based on artists...        \n",
       "4                          I create my own playlists        \n",
       "\n",
       "  How often do you listen to personalized smart playlists (like Discover Weekly, Daily Mix, Stations, etc.)?  \\\n",
       "0                   Sometimes (at least once a week)                                                           \n",
       "1                   Sometimes (at least once a week)                                                           \n",
       "2                   Sometimes (at least once a week)                                                           \n",
       "3                                       Almost never                                                           \n",
       "4                   Sometimes (at least once a week)                                                           \n",
       "\n",
       "  Does your music streaming app give you recommendations that fit your tastes?   \\\n",
       "0                                          Sometimes                              \n",
       "1                                              Often                              \n",
       "2                                          Sometimes                              \n",
       "3                                       Occasionally                              \n",
       "4                                          Sometimes                              \n",
       "\n",
       "  Do you use more than one streaming service?  \\\n",
       "0                                         Yes   \n",
       "1                                          No   \n",
       "2                                          No   \n",
       "3                                         Yes   \n",
       "4                                          No   \n",
       "\n",
       "  Which other music streaming app(s) do you use?   \\\n",
       "0                                         Pandora   \n",
       "1                                             NaN   \n",
       "2                                             NaN   \n",
       "3                                         Spotify   \n",
       "4                                             NaN   \n",
       "\n",
       "                       Why do you use more than one?  \\\n",
       "0  I got used to using Pandora when I worked in a...   \n",
       "1                                                NaN   \n",
       "2                                                NaN   \n",
       "3  Pandora is better for \"radio\" stations in disc...   \n",
       "4                                                NaN   \n",
       "\n",
       "  Does one of your streaming apps give better recommendations than the other? Which one?  \\\n",
       "0                                            Pandora                                       \n",
       "1                                                NaN                                       \n",
       "2                                                NaN                                       \n",
       "3                                            Pandora                                       \n",
       "4                                                NaN                                       \n",
       "\n",
       "  What do you wish your streaming app(s) did better? What feature(s) would you add?  \n",
       "0  I would like to have newer artists/song sugges...                                 \n",
       "1  Kind of miss the random-ness of Pandora. You c...                                 \n",
       "2                                 more foreign music                                 \n",
       "3  I wish it continuously added new songs to radi...                                 \n",
       "4  Better recommendations for music that I like. ...                                 "
      ]
     },
     "execution_count": 33,
     "metadata": {},
     "output_type": "execute_result"
    }
   ],
   "source": [
    "df.head()"
   ]
  },
  {
   "cell_type": "code",
   "execution_count": 34,
   "metadata": {},
   "outputs": [],
   "source": [
    "df.rename(columns={\n",
    "    \"Which music streaming app do you use most often?\":\"most_used_app\", \n",
    "    \"How often do you listen to music on any of these apps?\":\"use_frequency\", \n",
    "    \"What is the main way you listen to music on these apps?\":\"use_method\",\n",
    "    \"How often do you listen to personalized smart playlists (like Discover Weekly, Daily Mix, Stations, etc.)?\":\"use_of_algorithms\",\n",
    "    \"Does your music streaming app give you recommendations that fit your tastes? \":\"app_fit\",\n",
    "    \"Do you use more than one streaming service?\":\"additional_app\",\n",
    "    \"Which other music streaming app(s) do you use? \":\"other_app\",\n",
    "    \"Why do you use more than one?\":\"other_reason\",\n",
    "    \"Does one of your streaming apps give better recommendations than the other? Which one?\":\"better_recommendations\",\n",
    "    \"What do you wish your streaming app(s) did better? What feature(s) would you add?\":\"feedback\",\n",
    "}, inplace = True)           \n"
   ]
  },
  {
   "cell_type": "code",
   "execution_count": 35,
   "metadata": {
    "scrolled": true
   },
   "outputs": [
    {
     "data": {
      "text/html": [
       "<div>\n",
       "<style scoped>\n",
       "    .dataframe tbody tr th:only-of-type {\n",
       "        vertical-align: middle;\n",
       "    }\n",
       "\n",
       "    .dataframe tbody tr th {\n",
       "        vertical-align: top;\n",
       "    }\n",
       "\n",
       "    .dataframe thead th {\n",
       "        text-align: right;\n",
       "    }\n",
       "</style>\n",
       "<table border=\"1\" class=\"dataframe\">\n",
       "  <thead>\n",
       "    <tr style=\"text-align: right;\">\n",
       "      <th></th>\n",
       "      <th>Timestamp</th>\n",
       "      <th>most_used_app</th>\n",
       "      <th>use_frequency</th>\n",
       "      <th>use_method</th>\n",
       "      <th>use_of_algorithms</th>\n",
       "      <th>app_fit</th>\n",
       "      <th>additional_app</th>\n",
       "      <th>other_app</th>\n",
       "      <th>other_reason</th>\n",
       "      <th>better_recommendations</th>\n",
       "      <th>feedback</th>\n",
       "    </tr>\n",
       "  </thead>\n",
       "  <tbody>\n",
       "    <tr>\n",
       "      <th>0</th>\n",
       "      <td>2019/04/10 12:33:57 PM AST</td>\n",
       "      <td>Spotify</td>\n",
       "      <td>Sometimes (at least once a week)</td>\n",
       "      <td>I listen to personalized smart playlists (like...</td>\n",
       "      <td>Sometimes (at least once a week)</td>\n",
       "      <td>Sometimes</td>\n",
       "      <td>Yes</td>\n",
       "      <td>Pandora</td>\n",
       "      <td>I got used to using Pandora when I worked in a...</td>\n",
       "      <td>Pandora</td>\n",
       "      <td>I would like to have newer artists/song sugges...</td>\n",
       "    </tr>\n",
       "    <tr>\n",
       "      <th>1</th>\n",
       "      <td>2019/04/10 12:33:59 PM AST</td>\n",
       "      <td>Spotify</td>\n",
       "      <td>Sometimes (at least once a week)</td>\n",
       "      <td>I listen to personalized smart playlists (like...</td>\n",
       "      <td>Sometimes (at least once a week)</td>\n",
       "      <td>Often</td>\n",
       "      <td>No</td>\n",
       "      <td>NaN</td>\n",
       "      <td>NaN</td>\n",
       "      <td>NaN</td>\n",
       "      <td>Kind of miss the random-ness of Pandora. You c...</td>\n",
       "    </tr>\n",
       "    <tr>\n",
       "      <th>2</th>\n",
       "      <td>2019/04/10 12:35:55 PM AST</td>\n",
       "      <td>Spotify</td>\n",
       "      <td>Often (every day)</td>\n",
       "      <td>I listen to albums</td>\n",
       "      <td>Sometimes (at least once a week)</td>\n",
       "      <td>Sometimes</td>\n",
       "      <td>No</td>\n",
       "      <td>NaN</td>\n",
       "      <td>NaN</td>\n",
       "      <td>NaN</td>\n",
       "      <td>more foreign music</td>\n",
       "    </tr>\n",
       "    <tr>\n",
       "      <th>3</th>\n",
       "      <td>2019/04/10 12:37:48 PM AST</td>\n",
       "      <td>Pandora</td>\n",
       "      <td>Often (every day)</td>\n",
       "      <td>I listen to “radio” stations (based on artists...</td>\n",
       "      <td>Almost never</td>\n",
       "      <td>Occasionally</td>\n",
       "      <td>Yes</td>\n",
       "      <td>Spotify</td>\n",
       "      <td>Pandora is better for \"radio\" stations in disc...</td>\n",
       "      <td>Pandora</td>\n",
       "      <td>I wish it continuously added new songs to radi...</td>\n",
       "    </tr>\n",
       "    <tr>\n",
       "      <th>4</th>\n",
       "      <td>2019/04/10 12:38:26 PM AST</td>\n",
       "      <td>Apple Music</td>\n",
       "      <td>Often (every day)</td>\n",
       "      <td>I create my own playlists</td>\n",
       "      <td>Sometimes (at least once a week)</td>\n",
       "      <td>Sometimes</td>\n",
       "      <td>No</td>\n",
       "      <td>NaN</td>\n",
       "      <td>NaN</td>\n",
       "      <td>NaN</td>\n",
       "      <td>Better recommendations for music that I like. ...</td>\n",
       "    </tr>\n",
       "  </tbody>\n",
       "</table>\n",
       "</div>"
      ],
      "text/plain": [
       "                    Timestamp most_used_app                     use_frequency  \\\n",
       "0  2019/04/10 12:33:57 PM AST       Spotify  Sometimes (at least once a week)   \n",
       "1  2019/04/10 12:33:59 PM AST       Spotify  Sometimes (at least once a week)   \n",
       "2  2019/04/10 12:35:55 PM AST       Spotify                 Often (every day)   \n",
       "3  2019/04/10 12:37:48 PM AST       Pandora                 Often (every day)   \n",
       "4  2019/04/10 12:38:26 PM AST   Apple Music                 Often (every day)   \n",
       "\n",
       "                                          use_method  \\\n",
       "0  I listen to personalized smart playlists (like...   \n",
       "1  I listen to personalized smart playlists (like...   \n",
       "2                                 I listen to albums   \n",
       "3  I listen to “radio” stations (based on artists...   \n",
       "4                          I create my own playlists   \n",
       "\n",
       "                  use_of_algorithms       app_fit additional_app other_app  \\\n",
       "0  Sometimes (at least once a week)     Sometimes            Yes   Pandora   \n",
       "1  Sometimes (at least once a week)         Often             No       NaN   \n",
       "2  Sometimes (at least once a week)     Sometimes             No       NaN   \n",
       "3                      Almost never  Occasionally            Yes   Spotify   \n",
       "4  Sometimes (at least once a week)     Sometimes             No       NaN   \n",
       "\n",
       "                                        other_reason better_recommendations  \\\n",
       "0  I got used to using Pandora when I worked in a...                Pandora   \n",
       "1                                                NaN                    NaN   \n",
       "2                                                NaN                    NaN   \n",
       "3  Pandora is better for \"radio\" stations in disc...                Pandora   \n",
       "4                                                NaN                    NaN   \n",
       "\n",
       "                                            feedback  \n",
       "0  I would like to have newer artists/song sugges...  \n",
       "1  Kind of miss the random-ness of Pandora. You c...  \n",
       "2                                 more foreign music  \n",
       "3  I wish it continuously added new songs to radi...  \n",
       "4  Better recommendations for music that I like. ...  "
      ]
     },
     "execution_count": 35,
     "metadata": {},
     "output_type": "execute_result"
    }
   ],
   "source": [
    "df.head()"
   ]
  },
  {
   "cell_type": "code",
   "execution_count": 39,
   "metadata": {
    "scrolled": true
   },
   "outputs": [],
   "source": [
    "df['app_fit'].replace(\"Occasionally\", \"Sometimes\", inplace=True)\n",
    "df['app_fit'].replace([\"Often\", \"A lot of the time\", \"Almost always\"], \"Most of the time\", inplace=True)"
   ]
  },
  {
   "cell_type": "code",
   "execution_count": 42,
   "metadata": {},
   "outputs": [
    {
     "data": {
      "text/plain": [
       "Most of the time    34\n",
       "Sometimes           23\n",
       "Almost never         3\n",
       "Name: app_fit, dtype: int64"
      ]
     },
     "execution_count": 42,
     "metadata": {},
     "output_type": "execute_result"
    }
   ],
   "source": [
    "df.app_fit.value_counts()"
   ]
  },
  {
   "cell_type": "code",
   "execution_count": 43,
   "metadata": {},
   "outputs": [
    {
     "data": {
      "text/plain": [
       "Often (every day)                   54\n",
       "Sometimes (at least once a week)     6\n",
       "Occasionally                         1\n",
       "Name: use_frequency, dtype: int64"
      ]
     },
     "execution_count": 43,
     "metadata": {},
     "output_type": "execute_result"
    }
   ],
   "source": [
    "df.use_frequency.value_counts()"
   ]
  },
  {
   "cell_type": "code",
   "execution_count": 44,
   "metadata": {},
   "outputs": [
    {
     "data": {
      "text/plain": [
       "Spotify              48\n",
       "Apple Music           5\n",
       "Google Play Music     3\n",
       "Pandora               1\n",
       "Amazon Unlimited      1\n",
       "iHeartRadio           1\n",
       "YouTube               1\n",
       "Tidal                 1\n",
       "None                  1\n",
       "Name: most_used_app, dtype: int64"
      ]
     },
     "execution_count": 44,
     "metadata": {},
     "output_type": "execute_result"
    }
   ],
   "source": [
    "df.most_used_app.value_counts()"
   ]
  },
  {
   "cell_type": "code",
   "execution_count": 45,
   "metadata": {},
   "outputs": [
    {
     "data": {
      "text/plain": [
       "I create my own playlists                                                           29\n",
       "I listen to personalized smart playlists (like Discover Weekly, Daily Mix, etc.)    13\n",
       "I listen to albums                                                                  10\n",
       "I listen to “radio” stations (based on artists/genre)                                7\n",
       "I find the song I want to hear                                                       1\n",
       "I listen to new releases                                                             1\n",
       "Name: use_method, dtype: int64"
      ]
     },
     "execution_count": 45,
     "metadata": {},
     "output_type": "execute_result"
    }
   ],
   "source": [
    "df.use_method.value_counts()"
   ]
  },
  {
   "cell_type": "code",
   "execution_count": 47,
   "metadata": {},
   "outputs": [
    {
     "data": {
      "text/plain": [
       "Sometimes (at least once a week)    0.540984\n",
       "Occasionally                        0.245902\n",
       "Often (every day)                   0.131148\n",
       "Almost never                        0.081967\n",
       "Name: use_of_algorithms, dtype: float64"
      ]
     },
     "execution_count": 47,
     "metadata": {},
     "output_type": "execute_result"
    }
   ],
   "source": [
    "df.use_of_algorithms.value_counts(1)"
   ]
  },
  {
   "cell_type": "code",
   "execution_count": 63,
   "metadata": {},
   "outputs": [
    {
     "data": {
      "text/plain": [
       "use_of_algorithms\n",
       "Almost never                         5\n",
       "Occasionally                        15\n",
       "Often (every day)                    8\n",
       "Sometimes (at least once a week)    33\n",
       "dtype: int64"
      ]
     },
     "execution_count": 63,
     "metadata": {},
     "output_type": "execute_result"
    }
   ],
   "source": [
    "df.groupby(\"use_of_algorithms\").size()"
   ]
  },
  {
   "cell_type": "code",
   "execution_count": 127,
   "metadata": {
    "scrolled": true
   },
   "outputs": [
    {
     "data": {
      "image/png": "[encoded data removed]",
      "text/plain": [
       "<Figure size 1080x720 with 1 Axes>"
      ]
     },
     "metadata": {
      "needs_background": "light"
     },
     "output_type": "display_data"
    }
   ],
   "source": [
    "from textwrap import wrap\n",
    "\n",
    "plt.figure(figsize=(15,10))\n",
    "sns.set_context(\"paper\", rc={\"font.size\":15,\"axes.titlesize\":20,\"axes.labelsize\":20})   \n",
    "ax = sns.countplot(data=df, x = \"use_of_algorithms\", palette=\"cool\", order=[\"Often (every day)\", \"Sometimes (at least once a week)\", \"Occasionally\", \"Almost never\"])\n",
    "ax.set(xlabel=None, ylabel='Count of Respondents')\n",
    "ax.set_title(\"\\n\".join(wrap(\"How often do you listen to personalized smart playlists (like Discover Weekly, Daily Mix, Stations, etc.)?\", 60)))\n",
    "ax.set_xticklabels(labels=[\"Often (every day)\", \"Sometimes (at least once a week)\", \"Occasionally\", \"Almost never\"], fontsize=15)\n",
    "for p in ax.patches:\n",
    "    total = len(df)\n",
    "    height = p.get_height()\n",
    "    ax.text(p.get_x()+p.get_width()/2.,\n",
    "            height,\n",
    "            '{:1.2f}'.format(height/total),\n",
    "            ha=\"center\")\n",
    "plt.savefig('use_of_algorithms.png', transparent=True)"
   ]
  },
  {
   "cell_type": "code",
   "execution_count": 131,
   "metadata": {},
   "outputs": [
    {
     "data": {
      "image/png": "[encoded data removed]",
      "text/plain": [
       "<Figure size 1080x720 with 1 Axes>"
      ]
     },
     "metadata": {
      "needs_background": "light"
     },
     "output_type": "display_data"
    }
   ],
   "source": [
    "plt.figure(figsize=(15,10))\n",
    "sns.set_context(\"paper\", rc={\"font.size\":15,\"axes.titlesize\":20,\"axes.labelsize\":20})   \n",
    "ax = sns.countplot(data=df, x = \"app_fit\", palette=\"cool\", order=[\"Most of the time\", \"Sometimes\", \"Almost never\"])\n",
    "ax.set(xlabel=None, ylabel='Count of Respondents')\n",
    "ax.set_title(\"\\n\".join(wrap(\"Does your music streaming app give you recommendations that fit your tastes?\", 60)))\n",
    "ax.set_xticklabels(labels=[\"Most of the time\", \"Sometimes\", \"Almost never\"], fontsize=15)\n",
    "for p in ax.patches:\n",
    "    total = len(df)\n",
    "    height = p.get_height()\n",
    "    ax.text(p.get_x()+p.get_width()/2.,\n",
    "            height,\n",
    "            '{:1.2f}'.format(height/total),\n",
    "            ha=\"center\")\n",
    "plt.savefig('app_fit.png', transparent=True)"
   ]
  },
  {
   "cell_type": "code",
   "execution_count": null,
   "metadata": {},
   "outputs": [],
   "source": []
  }
 ],
 "metadata": {
  "kernelspec": {
   "display_name": "Python 3",
   "language": "python",
   "name": "python3"
  },
  "language_info": {
   "codemirror_mode": {
    "name": "ipython",
    "version": 3
   },
   "file_extension": ".py",
   "mimetype": "text/x-python",
   "name": "python",
   "nbconvert_exporter": "python",
   "pygments_lexer": "ipython3",
   "version": "3.6.8"
  }
 },
 "nbformat": 4,
 "nbformat_minor": 2
}
