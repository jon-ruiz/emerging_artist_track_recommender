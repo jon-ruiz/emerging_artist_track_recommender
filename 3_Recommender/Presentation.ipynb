{
 "cells": [
  {
   "cell_type": "code",
   "execution_count": 1,
   "metadata": {},
   "outputs": [],
   "source": [
    "import pandas as pd"
   ]
  },
  {
   "cell_type": "code",
   "execution_count": 3,
   "metadata": {},
   "outputs": [],
   "source": [
    "recommender = pd.read_csv(\"/Users/jonruiz/Capstone/recommender_for_presentation.csv\")"
   ]
  },
  {
   "cell_type": "code",
   "execution_count": null,
   "metadata": {},
   "outputs": [],
   "source": [
    "recommender.head"
   ]
  },
  {
   "cell_type": "code",
   "execution_count": null,
   "metadata": {},
   "outputs": [],
   "source": [
    "search = 'Die Hard'\n",
    "\n",
    "for title in recommender.loc[recommender['title'].str.contains(search), 'title']:\n",
    "    print(title)\n",
    "    print('Average rating', pivot.loc[title, :].mean())\n",
    "    print('Number of ratings', pivot.T[title].count())\n",
    "    print('')\n",
    "    print('10 closest movies')\n",
    "    print(recommender_df[title].sort_values()[1:11])\n",
    "    print('')\n",
    "    print('*******************************************************************************************')\n",
    "    print('')"
   ]
  }
 ],
 "metadata": {
  "kernelspec": {
   "display_name": "Python 3",
   "language": "python",
   "name": "python3"
  },
  "language_info": {
   "codemirror_mode": {
    "name": "ipython",
    "version": 3
   },
   "file_extension": ".py",
   "mimetype": "text/x-python",
   "name": "python",
   "nbconvert_exporter": "python",
   "pygments_lexer": "ipython3",
   "version": "3.6.8"
  }
 },
 "nbformat": 4,
 "nbformat_minor": 2
}
