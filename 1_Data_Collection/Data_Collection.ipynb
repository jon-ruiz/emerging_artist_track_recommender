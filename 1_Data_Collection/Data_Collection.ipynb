{
 "cells": [
  {
   "cell_type": "markdown",
   "metadata": {},
   "source": [
    "## Identification of Established and Emerging Artists\n",
    "\n",
    "Using an unofficial Billboard API by Github user [guoguo12](https://github.com/guoguo12), I pulled the names of every artist features on the Artist 100 and Emerging 50 charts dating back to September of 2017 (when Billboard started populating the Emerging 50 chart). In May 2019, After processing the data (which included overlapping artists from the emerging artists list and deleting duplicates from both lists), I was able to identify 576 emerging artists and 626 established artists. These numbers will vary depending on the week the code is run.  "
   ]
  },
  {
   "cell_type": "code",
   "execution_count": null,
   "metadata": {},
   "outputs": [],
   "source": [
    "import datetime\n",
    "import billboard\n",
    "import pickle\n",
    "import pandas as pd"
   ]
  },
  {
   "cell_type": "code",
   "execution_count": null,
   "metadata": {},
   "outputs": [],
   "source": [
    "#set date today\n",
    "date = datetime.datetime.today()\n",
    "\n",
    "#create a list of dates that can be fed to the API in order to pull names of charting artists per week\n",
    "date_list = [date - datetime.timedelta(days=x) for x in range(0, 620) if x % 7 == 0] \n",
    "\n",
    "#format the dates so that they are legible to the billboard API\n",
    "date_list = [i.strftime('%Y-%m-%d') for i in date_list] "
   ]
  },
  {
   "cell_type": "markdown",
   "metadata": {},
   "source": [
    "### Pull List of Emerging Artists\n",
    "\n",
    "The code below may take a few minutes to run."
   ]
  },
  {
   "cell_type": "code",
   "execution_count": null,
   "metadata": {},
   "outputs": [],
   "source": [
    "emerging_artists = []\n",
    "for i in date_list:\n",
    "    chart_data = billboard.ChartData(\"emerging-artists\", date=i)\n",
    "    chart = chart_data.entries\n",
    "    for i in range(0, len(chart)):\n",
    "        emerging_artists.append(chart[i].artist)\n",
    "\n",
    "#remove duplicates from the list\n",
    "emerging_artists = list(set(emerging_artists))"
   ]
  },
  {
   "cell_type": "code",
   "execution_count": null,
   "metadata": {},
   "outputs": [],
   "source": [
    "#check first 5 artists in list\n",
    "emerging_artists[:5]"
   ]
  },
  {
   "cell_type": "code",
   "execution_count": null,
   "metadata": {},
   "outputs": [],
   "source": [
    "#check length of list\n",
    "len(emerging_artists)"
   ]
  },
  {
   "cell_type": "markdown",
   "metadata": {},
   "source": [
    "### Pull List of Established Artists\n",
    "\n",
    "The code below may take a few minutes to run."
   ]
  },
  {
   "cell_type": "code",
   "execution_count": null,
   "metadata": {},
   "outputs": [],
   "source": [
    "established_artists = []\n",
    "for i in date_list:\n",
    "    chart_data = billboard.ChartData(\"artist-100\", date=i)\n",
    "    chart = chart_data.entries\n",
    "    for i in range(0, len(chart)):\n",
    "        established_artists.append(chart[i].artist)\n",
    "\n",
    "\n",
    "\n",
    "#remove duplicates from the list\n",
    "established_artists = list(set(established_artists))"
   ]
  },
  {
   "cell_type": "code",
   "execution_count": null,
   "metadata": {},
   "outputs": [],
   "source": [
    "#check first 5 artists in list\n",
    "established_artists[:5]"
   ]
  },
  {
   "cell_type": "code",
   "execution_count": null,
   "metadata": {},
   "outputs": [],
   "source": [
    "#check length of list\n",
    "len(established_artists)"
   ]
  },
  {
   "cell_type": "markdown",
   "metadata": {},
   "source": [
    "### Remove Overlap\n",
    "\n",
    "It is possible that artists who were once considered emerging could have moved over to the Artist 100 list in the ~88 week period through which the code above scrapes the Billboard charts. This means that there will be artists who will inevitably be featured in both lists. The code below identifies the overlap between the lists and eliminates the overlapping artists from the **emerging artists** list. "
   ]
  },
  {
   "cell_type": "code",
   "execution_count": null,
   "metadata": {},
   "outputs": [],
   "source": [
    "overlap = list(set(established_artists).intersection(emerging_artists))"
   ]
  },
  {
   "cell_type": "code",
   "execution_count": null,
   "metadata": {},
   "outputs": [],
   "source": [
    "#these are the artists who have crossed over in the last year and a half or so. \n",
    "overlap"
   ]
  },
  {
   "cell_type": "code",
   "execution_count": null,
   "metadata": {},
   "outputs": [],
   "source": [
    "#removing the now-established artists from the emerging artists lists.\n",
    "for i in overlap:\n",
    "    emerging_artists.remove(i)"
   ]
  },
  {
   "cell_type": "code",
   "execution_count": null,
   "metadata": {},
   "outputs": [],
   "source": [
    "#new length of the emerging artists list\n",
    "len(emerging_artists)"
   ]
  },
  {
   "cell_type": "markdown",
   "metadata": {},
   "source": [
    "### Pickle the Lists"
   ]
  },
  {
   "cell_type": "code",
   "execution_count": null,
   "metadata": {},
   "outputs": [],
   "source": [
    "with open('../established_artists.pkl', 'wb') as f:\n",
    "    pickle.dump(established_artists, f)"
   ]
  },
  {
   "cell_type": "code",
   "execution_count": null,
   "metadata": {},
   "outputs": [],
   "source": [
    "with open('../emerging_artists.pkl', 'wb') as f:\n",
    "    pickle.dump(emerging_artists, f)"
   ]
  },
  {
   "cell_type": "markdown",
   "metadata": {},
   "source": [
    "## Identify Top Songs Per Artist on Spotify\n",
    "\n",
    "\n",
    "The second stage involves creating a loop that would feed the names of the artists in each list to the Spotify API as search terms and capturing the first search result for each artist in order to identify each artist's Spotify ID. Then, using the artist search method, the top songs will be pulled for each artist. The max number of songs is 10 per artist and if an artist has less than 10 tracks published on Spotify, all tracks will be pulled.\n",
    "\n",
    "Spotify provides links to the track preview audio files, each of which are 30 seconds long. Track previews will be downloaded using the URLLIB library."
   ]
  },
  {
   "cell_type": "code",
   "execution_count": null,
   "metadata": {},
   "outputs": [],
   "source": [
    "import spotipy\n",
    "import spotipy.util as util\n",
    "from spotipy.oauth2 import SpotifyClientCredentials"
   ]
  },
  {
   "cell_type": "code",
   "execution_count": null,
   "metadata": {},
   "outputs": [],
   "source": [
    "#username=\"1235130080\"\n",
    "#client_id='80aa7a928c4541428fab1590b72d13b5'\n",
    "#client_secret='4c08b36625c64523ab87cabc9aa36835'\n",
    "#redirect_uri='https://github.com/jon-ruiz'\n",
    "client_credentials_manager = SpotifyClientCredentials(client_id=\"80aa7a928c4541428fab1590b72d13b5\", \n",
    "                                                      client_secret=\"4c08b36625c64523ab87cabc9aa36835\")\n",
    "spotify = spotipy.Spotify(client_credentials_manager=client_credentials_manager)"
   ]
  },
  {
   "cell_type": "markdown",
   "metadata": {},
   "source": [
    "### Get Spotify IDs for Each Artist"
   ]
  },
  {
   "cell_type": "code",
   "execution_count": null,
   "metadata": {},
   "outputs": [],
   "source": [
    "emerging_spotify_id = []\n",
    "for i in emerging_artists:\n",
    "    try:\n",
    "        results = spotify.search(q=i, type=\"artist\")\n",
    "        emerging_spotify_id.append(results[\"artists\"][\"items\"][0][\"id\"])\n",
    "    except:\n",
    "        emerging_spotify_id.append(\"null\")"
   ]
  },
  {
   "cell_type": "code",
   "execution_count": null,
   "metadata": {},
   "outputs": [],
   "source": [
    "established_spotify_id = []\n",
    "for i in established_artists:\n",
    "    try:\n",
    "        results = spotify.search(q=i, type=\"artist\")\n",
    "        established_spotify_id.append(results[\"artists\"][\"items\"][0][\"id\"])\n",
    "    except:\n",
    "        established_spotify_id.append(\"null\")"
   ]
  },
  {
   "cell_type": "markdown",
   "metadata": {},
   "source": [
    "### Create DataFrames that Contain the Artist-ID Combinations for Future Reference"
   ]
  },
  {
   "cell_type": "code",
   "execution_count": null,
   "metadata": {
    "scrolled": true
   },
   "outputs": [],
   "source": [
    "df_established_artists = pd.DataFrame({\"artist\":established_artists, \"id\":established_spotify_id})\n",
    "df_emerging_artists = pd.DataFrame({\"artist\":emerging_artists, \"id\":emerging_spotify_id})"
   ]
  },
  {
   "cell_type": "code",
   "execution_count": null,
   "metadata": {},
   "outputs": [],
   "source": [
    "#remove nulls\n",
    "emerging_spotify_id = [x for x in emerging_spotify_id if x != \"null\"]\n",
    "established_spotify_id = [x for x in established_spotify_id if x != \"null\"]"
   ]
  },
  {
   "cell_type": "markdown",
   "metadata": {},
   "source": [
    "### Create DataFrames that Contain Song Information"
   ]
  },
  {
   "cell_type": "code",
   "execution_count": null,
   "metadata": {},
   "outputs": [],
   "source": [
    "em_artist_track = []\n",
    "em_artist_name = []\n",
    "em_artist_track_duration = []\n",
    "em_artist_track_popularity = []\n",
    "em_artist_track_release_date = []\n",
    "em_artist_track_preview_url = []\n",
    "em_artist_track_id = []\n",
    "em_artist_id = []\n",
    "\n",
    "for i in emerging_spotify_id:\n",
    "    data = spotify.artist_top_tracks(i)\n",
    "    for i in range(len(data[\"tracks\"])):\n",
    "        em_artist_track.append(data[\"tracks\"][i][\"name\"])\n",
    "        em_artist_name.append(data[\"tracks\"][i][\"artists\"][0][\"name\"])\n",
    "        em_artist_track_duration.append(data[\"tracks\"][i][\"duration_ms\"])\n",
    "        em_artist_track_popularity.append(data[\"tracks\"][i][\"popularity\"])\n",
    "        em_artist_track_release_date.append(data[\"tracks\"][0][\"album\"][\"release_date\"])\n",
    "        em_artist_track_preview_url.append(data[\"tracks\"][0][\"preview_url\"])\n",
    "        em_artist_track_id.append(data[\"tracks\"][i][\"id\"])\n",
    "        em_artist_id.append(data[\"tracks\"][i][\"artists\"][0][\"id\"])\n",
    "        \n",
    "emerging_artists_songs = pd.DataFrame({\"track_name\": em_artist_track, \n",
    "                                       \"artist\": em_artist_name, \n",
    "                                       \"duration\": em_artist_track_duration, \n",
    "                                       \"popularity\": em_artist_track_popularity, \n",
    "                                       \"release_date\": em_artist_track_release_date, \n",
    "                                       \"mp3\": em_artist_track_preview_url, \n",
    "                                       \"track_id\": em_artist_track_id, \n",
    "                                       \"artist_id\": em_artist_id})\n",
    "\n",
    "emerging_artists_songs.head()"
   ]
  },
  {
   "cell_type": "code",
   "execution_count": null,
   "metadata": {},
   "outputs": [],
   "source": [
    "es_artist_track = []\n",
    "es_artist_name = []\n",
    "es_artist_track_duration = []\n",
    "es_artist_track_popularity = []\n",
    "es_artist_track_release_date = []\n",
    "es_artist_track_preview_url = []\n",
    "es_artist_track_id = []\n",
    "es_artist_id = []\n",
    "\n",
    "for i in established_spotify_id:\n",
    "    data = spotify.artist_top_tracks(i)\n",
    "    for i in range(len(data[\"tracks\"])):\n",
    "        es_artist_track.append(data[\"tracks\"][i][\"name\"])\n",
    "        es_artist_name.append(data[\"tracks\"][i][\"artists\"][0][\"name\"])\n",
    "        es_artist_track_duration.append(data[\"tracks\"][i][\"duration_ms\"])\n",
    "        es_artist_track_popularity.append(data[\"tracks\"][i][\"popularity\"])\n",
    "        es_artist_track_release_date.append(data[\"tracks\"][0][\"album\"][\"release_date\"])\n",
    "        es_artist_track_preview_url.append(data[\"tracks\"][0][\"preview_url\"])\n",
    "        es_artist_track_id.append(data[\"tracks\"][i][\"id\"])\n",
    "        es_artist_id.append(data[\"tracks\"][i][\"artists\"][0][\"id\"])\n",
    "        \n",
    "established_artists_songs = pd.DataFrame({\"track_name\": es_artist_track, \n",
    "                                          \"artist\": es_artist_name, \n",
    "                                          \"duration\": es_artist_track_duration, \n",
    "                                          \"popularity\": es_artist_track_popularity, \n",
    "                                          \"release_date\": es_artist_track_release_date, \n",
    "                                          \"mp3\": es_artist_track_preview_url, \n",
    "                                          \"track_id\": es_artist_track_id, \n",
    "                                          \"artist_id\": es_artist_id})\n",
    "\n",
    "established_artists_songs.head()"
   ]
  },
  {
   "cell_type": "markdown",
   "metadata": {},
   "source": [
    "### Download the Songs\n",
    "\n",
    "I created seperate folders for songs from the two categories of artists. The code below will loop through each category's respective database and download the songs into the appropriate folder. "
   ]
  },
  {
   "cell_type": "code",
   "execution_count": null,
   "metadata": {},
   "outputs": [],
   "source": [
    "import urllib.request"
   ]
  },
  {
   "cell_type": "code",
   "execution_count": null,
   "metadata": {},
   "outputs": [],
   "source": [
    "for index, row in established_artists_songs.iterrows():\n",
    "    url = row['mp3']\n",
    "    name = row['track_id']\n",
    "    urllib.request.urlretrieve(url, '../Downloads/Established_Artists_Songs/' + name + '.mp3')"
   ]
  },
  {
   "cell_type": "code",
   "execution_count": null,
   "metadata": {},
   "outputs": [],
   "source": [
    "for index, row in emerging_artists_songs.iterrows():\n",
    "    url = row['mp3']\n",
    "    name = row['track_id']\n",
    "    urllib.request.urlretrieve(url, '../Downloads/Emerging_Artists_Songs/' + name + '.mp3')"
   ]
  }
 ],
 "metadata": {
  "kernelspec": {
   "display_name": "Python 3",
   "language": "python",
   "name": "python3"
  },
  "language_info": {
   "codemirror_mode": {
    "name": "ipython",
    "version": 3
   },
   "file_extension": ".py",
   "mimetype": "text/x-python",
   "name": "python",
   "nbconvert_exporter": "python",
   "pygments_lexer": "ipython3",
   "version": "3.6.8"
  }
 },
 "nbformat": 4,
 "nbformat_minor": 2
}
